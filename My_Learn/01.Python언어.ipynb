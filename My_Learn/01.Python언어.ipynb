{
 "cells": [
  {
   "cell_type": "code",
   "execution_count": null,
   "metadata": {},
   "outputs": [],
   "source": [
    "'''파이썬 언어를 배워야 하는 이유?'''\n",
    "#첫째. 우리의 일상생활 모든 인프라에 깔려있는 디지털장비(스마트폰, 컴퓨터, 인터넷등)를 이루고있는 구성요소로써\n",
    "#      이것을 앎으로 우리삶이 어떻게 이루어 져있는지 파악하기 위해서\n",
    "#둘째. 단순, 반복적인 업무를 기계에 자동화 시켜 위임하고 인간은 창의적의고 혁신적인 일들에 집중 할 수 있게 하기 위해서 이다.\n",
    "\n",
    "'''파이썬의 특징'''\n",
    "#배우기 쉽고 무료에 방대한 라이브러리가 있고 OS호환성이 뛰어나다.\n",
    "#파이썬의 라이브러리를 이용하기위해 Anaconda를 설치해야함\n"
   ]
  }
 ],
 "metadata": {
  "kernelspec": {
   "display_name": "Python 3.9.1 64-bit",
   "language": "python",
   "name": "python3"
  },
  "language_info": {
   "codemirror_mode": {
    "name": "ipython",
    "version": 3
   },
   "file_extension": ".py",
   "mimetype": "text/x-python",
   "name": "python",
   "nbconvert_exporter": "python",
   "pygments_lexer": "ipython3",
   "version": "3.9.1"
  },
  "orig_nbformat": 4,
  "vscode": {
   "interpreter": {
    "hash": "fd6fea355522f5d03011281e8b79f97380be3f5d3a4f423dda187c1a42b428a4"
   }
  }
 },
 "nbformat": 4,
 "nbformat_minor": 2
}
