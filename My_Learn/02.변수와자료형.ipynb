{
 "cells": [
  {
   "cell_type": "markdown",
   "metadata": {},
   "source": [
    "01. 변수\n",
    "    반복적인 코드를 변수라는 상자에 함축시켜 필요할때마다 꺼내쓰는 효율적인 프로그래밍 방식"
   ]
  },
  {
   "cell_type": "code",
   "execution_count": 5,
   "metadata": {},
   "outputs": [
    {
     "name": "stdout",
     "output_type": "stream",
     "text": [
      "free style\n",
      "1234\n"
     ]
    }
   ],
   "source": [
    "#문자열변수 선언시 반드시 \"\"로 묶어주어야 함\n",
    "swim = \"free style\"\n",
    "swim_1 = 1234\n",
    "print(swim)\n",
    "print(swim_1)"
   ]
  },
  {
   "cell_type": "markdown",
   "metadata": {},
   "source": [
    "-변수명 설정 규칙-\n",
    "1. 문자,숫자,_기호를 이용해 만듦\n",
    "2. 숫자로는 시작할 수없다.\n",
    "3. 대소문자를 구별함\n",
    "4. 공백을 포함할 수 없음\n",
    "5. 밑줄이외 기호는 설정 불가(%,$,^등등)\n",
    "6. 파이썬 내장함수로는 변수선언이 불가(for, True,lambda, import등)"
   ]
  },
  {
   "cell_type": "markdown",
   "metadata": {},
   "source": [
    "*OOP(객체지향프로그래밍)의 구조\n",
    "변수 -> 함수 -> 클래스 -> 라이브러리 -> 모듈&패키지"
   ]
  },
  {
   "cell_type": "markdown",
   "metadata": {},
   "source": [
    "02. 리스트\n",
    "    필요한 데이터들을 한데 묶어서 처리하기 위한 데이터 관리방법"
   ]
  },
  {
   "cell_type": "code",
   "execution_count": 39,
   "metadata": {},
   "outputs": [
    {
     "name": "stdout",
     "output_type": "stream",
     "text": [
      "[1, 2, 3, 4, 'phelps', 'taehwan', 'eric', 'mike']\n"
     ]
    },
    {
     "data": {
      "text/plain": [
       "'mike'"
      ]
     },
     "execution_count": 39,
     "metadata": {},
     "output_type": "execute_result"
    }
   ],
   "source": [
    "#리스트의 인덱스는 0부터 시작\n",
    "swimmer = [1,2,3,4, 'phelps', 'taehwan', 'eric', 'mike']\n",
    "print(swimmer)\n",
    "\n",
    "#리스트의 7번째값을 불러옴\n",
    "swimmer[7]"
   ]
  },
  {
   "cell_type": "code",
   "execution_count": 28,
   "metadata": {},
   "outputs": [
    {
     "name": "stdout",
     "output_type": "stream",
     "text": [
      "[1, 2, 3, 4, 'phelps', 'taehwan', 'eric', 'thomas']\n"
     ]
    }
   ],
   "source": [
    "#리스트의 원소를 추가\n",
    "swimmer.append('thomas')\n",
    "print(swimmer)"
   ]
  },
  {
   "cell_type": "code",
   "execution_count": 40,
   "metadata": {},
   "outputs": [
    {
     "data": {
      "text/plain": [
       "[1, 2, 3, 4, 'phelps', 'taehwan', 'eric', 'mike', 'jay', 'tim']"
      ]
     },
     "execution_count": 40,
     "metadata": {},
     "output_type": "execute_result"
    }
   ],
   "source": [
    "#리스트에 복수개의 원소를 추가\n",
    "swimmer.extend(['jay','tim'])\n",
    "print(swimmer)"
   ]
  },
  {
   "cell_type": "code",
   "execution_count": 27,
   "metadata": {},
   "outputs": [
    {
     "data": {
      "text/plain": [
       "'mike'"
      ]
     },
     "execution_count": 27,
     "metadata": {},
     "output_type": "execute_result"
    }
   ],
   "source": [
    "#리스트의 마지막 원소를 삭제\n",
    "swimmer.pop()"
   ]
  },
  {
   "cell_type": "markdown",
   "metadata": {},
   "source": [
    "03. 튜플 \n",
    "    리스트와 마찬가지로 데이터를 한데묶어서 관리하기 위한 방법 단, 튜플은 설정후 항목 변경이 불가능하다."
   ]
  },
  {
   "cell_type": "code",
   "execution_count": 47,
   "metadata": {},
   "outputs": [
    {
     "name": "stdout",
     "output_type": "stream",
     "text": [
      "(1, 2, 'iphone', 'galaxy', 'blackberry', 'nokia', 'nokia')\n"
     ]
    },
    {
     "data": {
      "text/plain": [
       "2"
      ]
     },
     "execution_count": 47,
     "metadata": {},
     "output_type": "execute_result"
    }
   ],
   "source": [
    "handphone = (1,2,'iphone','galaxy','blackberry','nokia','nokia')\n",
    "print(handphone)\n",
    "\n",
    "#특정인자의 개수를 알고 싶을때\n",
    "handphone.count('nokia')"
   ]
  },
  {
   "cell_type": "markdown",
   "metadata": {},
   "source": [
    "04. 세트\n",
    "    세트의 특징으로는 데이터의 순서가 없고, 중복해서 쓸 수 없다는 점이다."
   ]
  },
  {
   "cell_type": "code",
   "execution_count": 50,
   "metadata": {},
   "outputs": [
    {
     "name": "stdout",
     "output_type": "stream",
     "text": [
      "{1, 2, 3, 'samsung', 'apple', 'xiaomi'}\n"
     ]
    },
    {
     "data": {
      "text/plain": [
       "set"
      ]
     },
     "execution_count": 50,
     "metadata": {},
     "output_type": "execute_result"
    }
   ],
   "source": [
    "watch = {1,2,3,3, 'apple','samsung','xiaomi'}\n",
    "print(watch)\n",
    "\n",
    "#데이터타입 확인을 위한 type\n",
    "type(watch)"
   ]
  },
  {
   "cell_type": "code",
   "execution_count": 54,
   "metadata": {},
   "outputs": [
    {
     "data": {
      "text/plain": [
       "set"
      ]
     },
     "execution_count": 54,
     "metadata": {},
     "output_type": "execute_result"
    }
   ],
   "source": [
    "#리스트,튜플,세트 간 타입변환\n",
    "a = [1,2,3,4,5]\n",
    "b = tuple(a)\n",
    "c = set(b)\n",
    "\n",
    "type(c)"
   ]
  },
  {
   "cell_type": "markdown",
   "metadata": {},
   "source": [
    "05. 딕셔너리\n",
    "    key, value 쌍으로 이루어진 데이터타입으로 key값만으로도 해당 값을 쉽게 찾을수 있음 \n",
    "    리스트나 튜플은 인덱스가 0부터 시작하나, 딕셔너리는 인덱스를 key값으로 임의로 지정이 가능하다(문자열도 가능)"
   ]
  },
  {
   "cell_type": "code",
   "execution_count": 66,
   "metadata": {},
   "outputs": [
    {
     "name": "stdout",
     "output_type": "stream",
     "text": [
      "{'korea': 'seoul', 'france': 'paris', 'america': 'newyork', 'japan': ['tokyo']}\n"
     ]
    },
    {
     "data": {
      "text/plain": [
       "dict_keys(['korea', 'france', 'america', 'japan'])"
      ]
     },
     "execution_count": 66,
     "metadata": {},
     "output_type": "execute_result"
    }
   ],
   "source": [
    "#value값에는 튜플,리스트등도 가능\n",
    "national = {\"korea\":\"seoul\", \"france\":\"paris\", \"america\":\"newyork\", \"japan\":[\"tokyo\"]}\n",
    "print(national)\n",
    "\n",
    "national[\"korea\"]\n",
    "national.keys()"
   ]
  },
  {
   "cell_type": "code",
   "execution_count": 67,
   "metadata": {},
   "outputs": [
    {
     "data": {
      "text/plain": [
       "dict_values(['seoul', 'paris', 'newyork', ['tokyo']])"
      ]
     },
     "execution_count": 67,
     "metadata": {},
     "output_type": "execute_result"
    }
   ],
   "source": [
    "national.values()"
   ]
  },
  {
   "cell_type": "code",
   "execution_count": 68,
   "metadata": {},
   "outputs": [
    {
     "data": {
      "text/plain": [
       "dict_items([('korea', 'seoul'), ('france', 'paris'), ('america', 'newyork'), ('japan', ['tokyo'])])"
      ]
     },
     "execution_count": 68,
     "metadata": {},
     "output_type": "execute_result"
    }
   ],
   "source": [
    "national.items()"
   ]
  },
  {
   "cell_type": "code",
   "execution_count": null,
   "metadata": {},
   "outputs": [],
   "source": []
  },
  {
   "cell_type": "code",
   "execution_count": null,
   "metadata": {},
   "outputs": [],
   "source": []
  },
  {
   "cell_type": "code",
   "execution_count": null,
   "metadata": {},
   "outputs": [],
   "source": []
  },
  {
   "cell_type": "code",
   "execution_count": null,
   "metadata": {},
   "outputs": [],
   "source": []
  },
  {
   "cell_type": "code",
   "execution_count": null,
   "metadata": {},
   "outputs": [],
   "source": []
  },
  {
   "cell_type": "code",
   "execution_count": null,
   "metadata": {},
   "outputs": [],
   "source": []
  }
 ],
 "metadata": {
  "kernelspec": {
   "display_name": "Python 3.9.1 64-bit",
   "language": "python",
   "name": "python3"
  },
  "language_info": {
   "codemirror_mode": {
    "name": "ipython",
    "version": 3
   },
   "file_extension": ".py",
   "mimetype": "text/x-python",
   "name": "python",
   "nbconvert_exporter": "python",
   "pygments_lexer": "ipython3",
   "version": "3.9.1"
  },
  "orig_nbformat": 4,
  "vscode": {
   "interpreter": {
    "hash": "fd6fea355522f5d03011281e8b79f97380be3f5d3a4f423dda187c1a42b428a4"
   }
  }
 },
 "nbformat": 4,
 "nbformat_minor": 2
}
