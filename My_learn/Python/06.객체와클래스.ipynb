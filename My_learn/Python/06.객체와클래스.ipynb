{
  "cells": [
    {
      "cell_type": "markdown",
      "metadata": {
        "id": "N-peZ45h6469"
      },
      "source": [
        "01. 변수와 함수를 한꺼번에 다룰수 있는 객체(Object)와 클래스(Class)\n",
        "    \n",
        "    객채 = 사람 \n",
        "    변수 = 속성(이름,나이,몸무게) \n",
        "    함수 = 행동(뛴다, 걷는다, 웃는다)"
      ]
    },
    {
      "cell_type": "code",
      "execution_count": null,
      "metadata": {
        "id": "L1PG1PZ4647A"
      },
      "outputs": [],
      "source": [
        "#클래스 정의 \n",
        "class Starcraft():\n",
        "    pass\n",
        "\n",
        "#Starcraft의 객체 terran종족을 정의\n",
        "terran = Starcraft()"
      ]
    },
    {
      "cell_type": "code",
      "execution_count": null,
      "metadata": {
        "id": "Z0pWpfna647C",
        "outputId": "346d684d-f2ea-4089-beb8-1f0d7f336cd7"
      },
      "outputs": [
        {
          "data": {
            "text/plain": [
              "<__main__.Starcraft at 0x1721ad6c520>"
            ]
          },
          "execution_count": 6,
          "metadata": {},
          "output_type": "execute_result"
        }
      ],
      "source": [
        "#객체의 메모리주소값 호출\n",
        "terran"
      ]
    },
    {
      "cell_type": "code",
      "execution_count": null,
      "metadata": {
        "id": "aTqZPito647D"
      },
      "outputs": [],
      "source": [
        "#객체에 속성값 설정하기\n",
        "terran.marrin_attack = 5\n",
        "terran.marrin_color = 'blue'"
      ]
    },
    {
      "cell_type": "code",
      "execution_count": null,
      "metadata": {
        "id": "Tqxeu-fd647D",
        "outputId": "3498fcec-d974-4594-bc15-f5aa843318bf"
      },
      "outputs": [
        {
          "name": "stdout",
          "output_type": "stream",
          "text": [
            "마린의 공격력 : 5\n",
            "마린의 제복색 : blue\n"
          ]
        }
      ],
      "source": [
        "#속성값 출력하기\n",
        "print(\"마린의 공격력 :\", terran.marrin_attack)\n",
        "print(\"마린의 제복색 :\", terran.marrin_color)"
      ]
    },
    {
      "cell_type": "code",
      "execution_count": null,
      "metadata": {
        "id": "rI3nnHoo647D"
      },
      "outputs": [],
      "source": [
        "#객체생성과 속성값을 동시에 지정해주는 __init__()함수\n",
        "class Starcraft():\n",
        "\n",
        "    def __init__(self, zerglling_ac, zerglling_cr):\n",
        "        self.zerglling_ac = zerglling_ac\n",
        "        self.zerglling_cr = zerglling_cr"
      ]
    },
    {
      "cell_type": "code",
      "execution_count": null,
      "metadata": {
        "id": "dfwtdUqi647E"
      },
      "outputs": [],
      "source": [
        "zerg = Starcraft(5, 'Red')"
      ]
    },
    {
      "cell_type": "code",
      "execution_count": null,
      "metadata": {
        "id": "BZWHrFwD647E",
        "outputId": "38b151e4-dd63-494e-b578-6992d53f96ef"
      },
      "outputs": [
        {
          "name": "stdout",
          "output_type": "stream",
          "text": [
            "저글링의 공격력 :  5\n",
            "저글링의 피부색 :  Red\n"
          ]
        }
      ],
      "source": [
        "print(\"저글링의 공격력 : \",zerg.zerglling_ac)\n",
        "print(\"저글링의 피부색 : \",zerg.zerglling_cr)"
      ]
    },
    {
      "cell_type": "markdown",
      "metadata": {
        "id": "1dBo7VBg647F"
      },
      "source": [
        "02. 클래스를 구성하는 변수와 함수\n",
        "    클래스에서 사용되는 변수는 위치에 따라 클래스 변수와 인스턴스 변수로 구분한다.\n",
        "    클래스 변수는 클래스내에서 모든 객체가 공통으로 사용가능하나\n",
        "    인스턴스 변수는 \"self.변수명 = 데이터\" 형식으로 접근가능"
      ]
    },
    {
      "cell_type": "code",
      "execution_count": null,
      "metadata": {
        "id": "MNGnecge647G"
      },
      "outputs": [],
      "source": [
        "class Car():\n",
        "    instance_cnt = 0 #클래스변수의 생성과 초기화\n",
        "\n",
        "    def __init__(self, size, color):\n",
        "        self.size = size #인스턴스 변수의 생성과 초기화\n",
        "        self.color = color #인스턴스 변수의 생성과 초기화\n",
        "        Car.instance_cnt = Car.instance_cnt + 1 #클래스 변수 사용\n",
        "        print(\"자동차의 객체수 : {0}\".format(Car.instance_cnt))\n",
        "\n",
        "    def move(self):\n",
        "        print(\"자동차{0} & {1}가 움직입니다.\".format(self.size, self.color))   "
      ]
    },
    {
      "cell_type": "code",
      "execution_count": null,
      "metadata": {
        "id": "FGtNmyKM647G",
        "outputId": "08d1530b-563c-457f-8699-4acc4d812819"
      },
      "outputs": [
        {
          "name": "stdout",
          "output_type": "stream",
          "text": [
            "자동차의 객체수 : 1\n",
            "자동차의 객체수 : 2\n"
          ]
        }
      ],
      "source": [
        "car1 = Car('small', 'white')\n",
        "car2 = Car('big', 'black')"
      ]
    },
    {
      "cell_type": "code",
      "execution_count": null,
      "metadata": {
        "id": "xjZuh1eV647H",
        "outputId": "4e065c31-3302-4308-e89a-10c755f5aade"
      },
      "outputs": [
        {
          "name": "stdout",
          "output_type": "stream",
          "text": [
            "자동차small & white가 움직입니다.\n",
            "자동차big & black가 움직입니다.\n"
          ]
        }
      ],
      "source": [
        "car1.move()\n",
        "car2.move()"
      ]
    }
  ],
  "metadata": {
    "kernelspec": {
      "display_name": "Python 3.10.4 ('study')",
      "language": "python",
      "name": "python3"
    },
    "language_info": {
      "codemirror_mode": {
        "name": "ipython",
        "version": 3
      },
      "file_extension": ".py",
      "mimetype": "text/x-python",
      "name": "python",
      "nbconvert_exporter": "python",
      "pygments_lexer": "ipython3",
      "version": "3.10.4"
    },
    "orig_nbformat": 4,
    "vscode": {
      "interpreter": {
        "hash": "311c01175034dfa1e2cf9ba746d002d4a3dcfff813d8041dfc977a277cf4a83e"
      }
    },
    "colab": {
      "provenance": []
    }
  },
  "nbformat": 4,
  "nbformat_minor": 0
}