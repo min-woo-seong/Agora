{
 "cells": [
  {
   "cell_type": "markdown",
   "metadata": {},
   "source": [
    "01. 실행결과를 화면에 출력하거나 사용자로부터 입력 받기 위한 방법"
   ]
  },
  {
   "cell_type": "code",
   "execution_count": 3,
   "metadata": {},
   "outputs": [
    {
     "name": "stdout",
     "output_type": "stream",
     "text": [
      "진은 나의 친구 입니다.\n"
     ]
    }
   ],
   "source": [
    "name = \"진\"\n",
    "print(\"%s은 나의 친구 입니다.\" % name)\n"
   ]
  },
  {
   "cell_type": "code",
   "execution_count": 4,
   "metadata": {},
   "outputs": [
    {
     "name": "stdout",
     "output_type": "stream",
     "text": [
      "Swimming : freestyle\n",
      "Swimming : freestyle,backstroke,butterfly\n"
     ]
    }
   ],
   "source": [
    "#형식지정 문자열\n",
    "swim_0 = \"freestyle\"\n",
    "swim_1 = \"backstroke\"\n",
    "swim_2 = \"butterfly\"\n",
    "\n",
    "print(\"Swimming : {0}\".format(swim_0))\n",
    "print(\"Swimming : {0},{1},{2}\".format(swim_0, swim_1, swim_2))"
   ]
  },
  {
   "cell_type": "code",
   "execution_count": 5,
   "metadata": {},
   "outputs": [
    {
     "name": "stdout",
     "output_type": "stream",
     "text": [
      "Swimming : butterfly,freestyle,backstroke\n"
     ]
    }
   ],
   "source": [
    "#위치변경 가능\n",
    "print(\"Swimming : {2},{0},{1}\".format(swim_0, swim_1, swim_2))"
   ]
  },
  {
   "cell_type": "markdown",
   "metadata": {},
   "source": [
    "02. 키보드로 데이터를 입력 받는 input()함수"
   ]
  },
  {
   "cell_type": "code",
   "execution_count": 9,
   "metadata": {},
   "outputs": [
    {
     "name": "stdout",
     "output_type": "stream",
     "text": [
      "당신의 취미는 음악감상이군요.\n"
     ]
    }
   ],
   "source": [
    "yourHobby = input(\"당신의 취미는?\")\n",
    "print(\"당신의 취미는 {}이군요.\".format(yourHobby))"
   ]
  },
  {
   "cell_type": "markdown",
   "metadata": {},
   "source": [
    "03. 파일 읽고 쓰기"
   ]
  },
  {
   "cell_type": "code",
   "execution_count": 1,
   "metadata": {},
   "outputs": [],
   "source": [
    "file_s = open('myFile.txt','w')\n",
    "file_s.write('hello world~!')\n",
    "file_s.close()"
   ]
  },
  {
   "cell_type": "code",
   "execution_count": 3,
   "metadata": {},
   "outputs": [
    {
     "name": "stdout",
     "output_type": "stream",
     "text": [
      "hello world~!\n"
     ]
    }
   ],
   "source": [
    "file_s = open('myFile.txt', 'r')\n",
    "file_text = file_s.read()\n",
    "file_s.close()\n",
    "\n",
    "print(file_text)"
   ]
  },
  {
   "cell_type": "code",
   "execution_count": 18,
   "metadata": {},
   "outputs": [],
   "source": [
    "#구구단 2단을 텍스트파일로 생성\n",
    "f = open('2_2_table.txt', 'w')\n",
    "for num in range(1,10):\n",
    "    format_str = \"2*{0} = {1}\\n\".format(num, 2*num)\n",
    "    f.write(format_str)\n",
    "f.close()"
   ]
  },
  {
   "cell_type": "code",
   "execution_count": 19,
   "metadata": {},
   "outputs": [
    {
     "name": "stdout",
     "output_type": "stream",
     "text": [
      "2*1 = 2\n",
      "2*2 = 4\n",
      "2*3 = 6\n",
      "2*4 = 8\n",
      "2*5 = 10\n",
      "2*6 = 12\n",
      "2*7 = 14\n",
      "2*8 = 16\n",
      "2*9 = 18\n",
      "\n"
     ]
    }
   ],
   "source": [
    "f = open('2_2_table.txt', 'r')\n",
    "f2 = f.read()\n",
    "f.close()\n",
    "print(f2)"
   ]
  },
  {
   "cell_type": "code",
   "execution_count": 21,
   "metadata": {},
   "outputs": [
    {
     "name": "stdout",
     "output_type": "stream",
     "text": [
      "2*1 = 2\n",
      "2*2 = 4\n",
      "2*3 = 6\n",
      "2*4 = 8\n",
      "2*5 = 10\n",
      "2*6 = 12\n",
      "2*7 = 14\n",
      "2*8 = 16\n",
      "2*9 = 18\n"
     ]
    }
   ],
   "source": [
    "#파일에서 문자 한줄씩 읽기\n",
    "f = open('2_2_table.txt')\n",
    "line = f.readline()\n",
    "while line:\n",
    "    #line이 공백인지 검사후 반복여부\n",
    "    print(line, end = \"\")\n",
    "    line = f.readline()\n",
    "f.close()"
   ]
  },
  {
   "cell_type": "code",
   "execution_count": 29,
   "metadata": {},
   "outputs": [],
   "source": [
    "#with문을 편한 방법 (close()가 필요없다.)\n",
    "\n",
    "with open('./3_3_table.txt','w') as f :\n",
    "    for num in range(1,10):\n",
    "        format_string = \"3 * {0} = {1}\\n\".format(num, 3*num)\n",
    "        f.write(format_string)\n",
    "    "
   ]
  },
  {
   "cell_type": "code",
   "execution_count": 30,
   "metadata": {},
   "outputs": [
    {
     "name": "stdout",
     "output_type": "stream",
     "text": [
      "3 * 1 = 3\n",
      "3 * 2 = 6\n",
      "3 * 3 = 9\n",
      "3 * 4 = 12\n",
      "3 * 5 = 15\n",
      "3 * 6 = 18\n",
      "3 * 7 = 21\n",
      "3 * 8 = 24\n",
      "3 * 9 = 27\n"
     ]
    }
   ],
   "source": [
    "with open('./3_3_table.txt', 'r') as f:\n",
    "    for line in f:\n",
    "        print(line, end=\"\")\n",
    "        "
   ]
  },
  {
   "cell_type": "code",
   "execution_count": null,
   "metadata": {},
   "outputs": [],
   "source": []
  }
 ],
 "metadata": {
  "kernelspec": {
   "display_name": "Python 3.9.1 64-bit",
   "language": "python",
   "name": "python3"
  },
  "language_info": {
   "codemirror_mode": {
    "name": "ipython",
    "version": 3
   },
   "file_extension": ".py",
   "mimetype": "text/x-python",
   "name": "python",
   "nbconvert_exporter": "python",
   "pygments_lexer": "ipython3",
   "version": "3.9.1"
  },
  "orig_nbformat": 4,
  "vscode": {
   "interpreter": {
    "hash": "fd6fea355522f5d03011281e8b79f97380be3f5d3a4f423dda187c1a42b428a4"
   }
  }
 },
 "nbformat": 4,
 "nbformat_minor": 2
}
