{
 "cells": [
  {
   "cell_type": "markdown",
   "metadata": {},
   "source": [
    "## 정제(Cleaning) : 가지고 있는 코퍼스로 부터 노이즈 데이터를 제거함\n",
    "## 정규화(Normalization) : SQL의 정규화와 비슷한 의미로 하나로 합친다는 의미를 가진다.\n",
    "##                        텍스트 전처리에서는 표현방법이 다른 단어들을 통합시켜 같은 단어로 만든다."
   ]
  },
  {
   "cell_type": "code",
   "execution_count": 5,
   "metadata": {},
   "outputs": [
    {
     "data": {
      "text/plain": [
       "'I was wondering if anyone out there could enlighten me on this car.'"
      ]
     },
     "execution_count": 5,
     "metadata": {},
     "output_type": "execute_result"
    }
   ],
   "source": [
    "import re\n",
    "\n",
    "text = \"I was wondering if anyone out there could enlighten me on this car.\"\n",
    "text"
   ]
  },
  {
   "cell_type": "code",
   "execution_count": 6,
   "metadata": {},
   "outputs": [
    {
     "name": "stdout",
     "output_type": "stream",
     "text": [
      " was wondering  anyone out there could enlighten   this car.\n"
     ]
    }
   ],
   "source": [
    "shortword = re.compile(r'\\w*\\b\\w{1,2}\\b')\n",
    "print(shortword.sub('', text))"
   ]
  }
 ],
 "metadata": {
  "kernelspec": {
   "display_name": "Python 3.9.4 64-bit",
   "language": "python",
   "name": "python3"
  },
  "language_info": {
   "codemirror_mode": {
    "name": "ipython",
    "version": 3
   },
   "file_extension": ".py",
   "mimetype": "text/x-python",
   "name": "python",
   "nbconvert_exporter": "python",
   "pygments_lexer": "ipython3",
   "version": "3.9.4"
  },
  "orig_nbformat": 4,
  "vscode": {
   "interpreter": {
    "hash": "f022d350694a0f6eb9c72b71eada93d9f918bccd49ffb1eae2427af930a7734d"
   }
  }
 },
 "nbformat": 4,
 "nbformat_minor": 2
}
